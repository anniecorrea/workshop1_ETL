{
 "cells": [
  {
   "cell_type": "code",
   "execution_count": 1,
   "id": "42e7c888",
   "metadata": {},
   "outputs": [],
   "source": [
    "import mysql.connector\n",
    "import pandas as pd\n"
   ]
  },
  {
   "cell_type": "code",
   "execution_count": 2,
   "id": "b3138ec2",
   "metadata": {},
   "outputs": [],
   "source": [
    "from dbconnection import get_connection\n",
    "\n",
    "# Crear conexión\n",
    "cnx = get_connection()\n",
    "cursor = cnx.cursor()\n",
    "\n"
   ]
  },
  {
   "cell_type": "code",
   "execution_count": 3,
   "id": "c49ad448",
   "metadata": {},
   "outputs": [],
   "source": [
    "dim_candidate = pd.read_csv('c:/Users/annie/Desktop/workshop1_ETL/dim_candidate.csv')\n",
    "dim_date = pd.read_csv('c:/Users/annie/Desktop/workshop1_ETL/dim_date.csv')\n",
    "dim_seniority = pd.read_csv('c:/Users/annie/Desktop/workshop1_ETL/dim_seniority.csv')\n",
    "dim_tech = pd.read_csv('c:/Users/annie/Desktop/workshop1_ETL/dim_technology.csv')\n",
    "dim_country= pd.read_csv('c:/Users/annie/Desktop/workshop1_ETL/dim_country.csv')"
   ]
  },
  {
   "cell_type": "code",
   "execution_count": 4,
   "id": "95b0fe80",
   "metadata": {},
   "outputs": [],
   "source": [
    "# Insert data into dim date\n",
    "\n",
    "for _, row in dim_date[[\"DateID\",\"ApplicationDate\",\"Day\",\"Month\",\"Year\"]].iterrows():\n",
    "    cursor.execute(\"\"\"\n",
    "        INSERT INTO DimDate (DateID, ApplicationDate, Day, Month, Year)\n",
    "        VALUES (%s, %s, %s, %s, %s)\n",
    "    \"\"\", tuple(row))\n",
    "cnx.commit()\n"
   ]
  },
  {
   "cell_type": "code",
   "execution_count": 5,
   "id": "705e5a52",
   "metadata": {},
   "outputs": [],
   "source": [
    "#Insert data into dim Candidate \n",
    "for _, row in dim_candidate[[\"CandidateID\",\"First Name\",\"Last Name\",\"Email\",\"YOE\"]].iterrows():\n",
    "    cursor.execute(\"\"\"\n",
    "        INSERT INTO dimcandidate (CandidateID, FirstName, LastName, Email, YOE)\n",
    "        VALUES (%s, %s, %s, %s, %s)\n",
    "    \"\"\", tuple(row))\n",
    "    \n",
    "cnx.commit()\n",
    "\n",
    "\n"
   ]
  },
  {
   "cell_type": "code",
   "execution_count": 6,
   "id": "a700fd9b",
   "metadata": {},
   "outputs": [],
   "source": [
    "# Insert data into dim Seniority\n",
    "for _, row in dim_seniority[[\"SeniorityID\",\"Seniority\"]].iterrows():\n",
    "    cursor.execute(\"\"\"\n",
    "        INSERT INTO dimseniority (SeniorityID, SeniorityLevel)\n",
    "        VALUES (%s, %s)\n",
    "    \"\"\", tuple(row))\n",
    "    \n",
    "cnx.commit()\n"
   ]
  },
  {
   "cell_type": "code",
   "execution_count": 7,
   "id": "eb4ae111",
   "metadata": {},
   "outputs": [],
   "source": [
    "# Insert data into dim Technology\n",
    "for _, row in dim_tech[[\"TechnologyID\",\"Technology\"]].iterrows():\n",
    "    cursor.execute(\"\"\"\n",
    "        INSERT INTO dimtechnology (TechnologyID, TechnologyName)\n",
    "        VALUES (%s, %s)\n",
    "    \"\"\", tuple(row))\n",
    "cnx.commit()\n"
   ]
  },
  {
   "cell_type": "code",
   "execution_count": 8,
   "id": "18b53f56",
   "metadata": {},
   "outputs": [],
   "source": [
    "#Insert data into dim Country\n",
    "for _, row in dim_country[[\"CountryID\",\"Country\"]].iterrows():\n",
    "    cursor.execute(\"\"\"\n",
    "        INSERT INTO dimcountry(CountryID, Country)\n",
    "        VALUES (%s, %s)\n",
    "    \"\"\", tuple(row))\n",
    "    \n",
    "cnx.commit()\n"
   ]
  },
  {
   "cell_type": "code",
   "execution_count": 9,
   "id": "b954c8db",
   "metadata": {},
   "outputs": [],
   "source": [
    "#last, load fact table\n",
    "\n",
    "fact_applications = pd.read_csv('c:/Users/annie/Desktop/workshop1_ETL/fact_applications.csv')"
   ]
  },
  {
   "cell_type": "code",
   "execution_count": 10,
   "id": "755dd181",
   "metadata": {},
   "outputs": [],
   "source": [
    "cnx = mysql.connector.connect(user='root', password='annie',\n",
    "host='localhost',\n",
    "database='workshop1')\n",
    "\n",
    "cursor = cnx.cursor()\n"
   ]
  },
  {
   "cell_type": "code",
   "execution_count": 11,
   "id": "72e5869b",
   "metadata": {},
   "outputs": [],
   "source": [
    "#Insert data into fact Applications\n",
    "for _, row in fact_applications[[\"ApplicationID\",\"CandidateID\",\"DateID\",\"TechnologyID\",\"SeniorityID\",\"CountryID\",\"Code Challenge Score\",\"Technical Interview Score\",\"Hired\"]].iterrows():\n",
    "    cursor.execute(\"\"\"\n",
    "        INSERT INTO factapplications (ApplicationID, CandidateID, DateID, TechnologyID, SeniorityID, CountryID, CodeChallengeScore, TechnicalInterviewScore, Hired)\n",
    "        VALUES (%s, %s, %s, %s, %s, %s, %s, %s, %s)\n",
    "    \"\"\", tuple(row))\n",
    "\n",
    "cnx.commit()\n",
    "cursor.close()\n",
    "cnx.close()"
   ]
  },
  {
   "cell_type": "code",
   "execution_count": 12,
   "id": "163af584",
   "metadata": {},
   "outputs": [
    {
     "data": {
      "text/plain": [
       "False"
      ]
     },
     "execution_count": 12,
     "metadata": {},
     "output_type": "execute_result"
    }
   ],
   "source": [
    "# cerrar conexión\n",
    "cnx.close()\n",
    "cursor.close()"
   ]
  }
 ],
 "metadata": {
  "kernelspec": {
   "display_name": "Python 3",
   "language": "python",
   "name": "python3"
  },
  "language_info": {
   "codemirror_mode": {
    "name": "ipython",
    "version": 3
   },
   "file_extension": ".py",
   "mimetype": "text/x-python",
   "name": "python",
   "nbconvert_exporter": "python",
   "pygments_lexer": "ipython3",
   "version": "3.12.4"
  }
 },
 "nbformat": 4,
 "nbformat_minor": 5
}

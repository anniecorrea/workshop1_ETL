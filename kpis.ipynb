{
 "cells": [
  {
   "cell_type": "code",
   "execution_count": 2,
   "id": "10657076",
   "metadata": {},
   "outputs": [],
   "source": [
    "import mysql.connector\n",
    "import pandas as pd\n"
   ]
  },
  {
   "cell_type": "code",
   "execution_count": null,
   "id": "a995d824",
   "metadata": {},
   "outputs": [],
   "source": [
    "#Im going to call the function from dbconnection.py to conect to the database\n",
    "from dbconnection import get_connection\n",
    "\n",
    "cnx = get_connection()\n",
    "cursor = cnx.cursor()"
   ]
  },
  {
   "cell_type": "code",
   "execution_count": 4,
   "id": "1bcb4bcf",
   "metadata": {},
   "outputs": [
    {
     "name": "stdout",
     "output_type": "stream",
     "text": [
      "                             TechnologyName  TotalHires\n",
      "0                          Game Development         519\n",
      "1                                    DevOps         495\n",
      "2                     System Administration         293\n",
      "3                 Development - CMS Backend         284\n",
      "4                  Adobe Experience Manager         282\n",
      "5                   Database Administration         282\n",
      "6                            Client Success         271\n",
      "7                                  Security         266\n",
      "8                    Development - Frontend         266\n",
      "9                                  Mulesoft         260\n",
      "10                                QA Manual         259\n",
      "11                               Salesforce         256\n",
      "12  Business Analytics / Project Management         255\n",
      "13                            Data Engineer         255\n",
      "14                    Development - Backend         255\n",
      "15                    Business Intelligence         254\n",
      "16                  Development - FullStack         254\n",
      "17               Development - CMS Frontend         251\n",
      "18                      Security Compliance         250\n",
      "19                                   Design         249\n",
      "20                            QA Automation         243\n",
      "21                                    Sales         239\n",
      "22        Social Media Community Management         237\n",
      "23                        Technical Writing         223\n"
     ]
    },
    {
     "name": "stderr",
     "output_type": "stream",
     "text": [
      "C:\\Users\\annie\\AppData\\Local\\Temp\\ipykernel_21340\\2241841591.py:13: UserWarning: pandas only supports SQLAlchemy connectable (engine/connection) or database string URI or sqlite3 DBAPI2 connection. Other DBAPI2 objects are not tested. Please consider using SQLAlchemy.\n",
      "  df = pd.read_sql(query, cnx)\n"
     ]
    }
   ],
   "source": [
    "# hires by technology\n",
    "\n",
    "query = \"\"\"\n",
    "SELECT t.TechnologyName,\n",
    "       COUNT(*) AS TotalHires\n",
    "FROM FactApplications f\n",
    "JOIN DimTechnology t ON f.TechnologyID = t.TechnologyID\n",
    "WHERE f.Hired = 1\n",
    "GROUP BY t.TechnologyName\n",
    "ORDER BY TotalHires DESC;\n",
    "\"\"\"\n",
    "\n",
    "df = pd.read_sql(query, cnx)\n",
    "print(df)\n"
   ]
  },
  {
   "cell_type": "code",
   "execution_count": 5,
   "id": "1d3e118c",
   "metadata": {},
   "outputs": [
    {
     "name": "stdout",
     "output_type": "stream",
     "text": [
      "   Year  TotalHires\n",
      "0  2018        1409\n",
      "1  2019        1524\n",
      "2  2020        1485\n",
      "3  2021        1485\n",
      "4  2022         795\n"
     ]
    },
    {
     "name": "stderr",
     "output_type": "stream",
     "text": [
      "C:\\Users\\annie\\AppData\\Local\\Temp\\ipykernel_21340\\3310215473.py:13: UserWarning: pandas only supports SQLAlchemy connectable (engine/connection) or database string URI or sqlite3 DBAPI2 connection. Other DBAPI2 objects are not tested. Please consider using SQLAlchemy.\n",
      "  df1 = pd.read_sql(query2, cnx)\n"
     ]
    }
   ],
   "source": [
    "#Hires by year \n",
    "\n",
    "query2 = \"\"\"\n",
    "SELECT d.Year,\n",
    "       COUNT(*) AS TotalHires\n",
    "FROM FactApplications f\n",
    "JOIN DimDate d ON f.DateID = d.DateID\n",
    "WHERE f.Hired = 1\n",
    "GROUP BY d.Year\n",
    "ORDER BY d.Year;\n",
    "\"\"\"\n",
    "\n",
    "df1 = pd.read_sql(query2, cnx)\n",
    "print(df1)"
   ]
  },
  {
   "cell_type": "code",
   "execution_count": 6,
   "id": "44e50aec",
   "metadata": {},
   "outputs": [
    {
     "name": "stderr",
     "output_type": "stream",
     "text": [
      "C:\\Users\\annie\\AppData\\Local\\Temp\\ipykernel_21340\\2662957258.py:11: UserWarning: pandas only supports SQLAlchemy connectable (engine/connection) or database string URI or sqlite3 DBAPI2 connection. Other DBAPI2 objects are not tested. Please consider using SQLAlchemy.\n",
      "  df2 = pd.read_sql(query3, cnx)\n"
     ]
    },
    {
     "name": "stdout",
     "output_type": "stream",
     "text": [
      "  SeniorityLevel  TotalHires\n",
      "0         Intern         985\n",
      "1         Junior         977\n",
      "2        Trainee         973\n",
      "3      Architect         971\n",
      "4         Senior         939\n",
      "5           Lead         929\n",
      "6      Mid-Level         924\n"
     ]
    }
   ],
   "source": [
    "#Hires by seniority level\n",
    "query3 = \"\"\"\n",
    "SELECT s.SeniorityLevel,\n",
    "       COUNT(*) AS TotalHires\n",
    "FROM FactApplications f\n",
    "JOIN DimSeniority s ON f.SeniorityID = s.SeniorityID\n",
    "WHERE f.Hired = 1\n",
    "GROUP BY s.SeniorityLevel\n",
    "ORDER BY TotalHires DESC;\n",
    "\"\"\"\n",
    "df2 = pd.read_sql(query3, cnx)\n",
    "print(df2)\n"
   ]
  },
  {
   "cell_type": "code",
   "execution_count": 15,
   "id": "5359d625",
   "metadata": {},
   "outputs": [
    {
     "name": "stdout",
     "output_type": "stream",
     "text": [
      "                     Country  Year  TotalHires\n",
      "0                     Brazil  2018         9.0\n",
      "1                     Brazil  2019         7.0\n",
      "2                     Brazil  2020         6.0\n",
      "3                     Brazil  2021         7.0\n",
      "4                     Brazil  2022         4.0\n",
      "5                   Colombia  2018         7.0\n",
      "6                   Colombia  2019         8.0\n",
      "7                   Colombia  2020         8.0\n",
      "8                   Colombia  2021         1.0\n",
      "9                   Colombia  2022         1.0\n",
      "10                   Ecuador  2018         1.0\n",
      "11                   Ecuador  2019         3.0\n",
      "12                   Ecuador  2020         8.0\n",
      "13                   Ecuador  2021         5.0\n",
      "14                   Ecuador  2022         3.0\n",
      "15  United States of America  2018         5.0\n",
      "16  United States of America  2019         3.0\n",
      "17  United States of America  2020         4.0\n",
      "18  United States of America  2021         8.0\n",
      "19  United States of America  2022         5.0\n"
     ]
    },
    {
     "name": "stderr",
     "output_type": "stream",
     "text": [
      "C:\\Users\\annie\\AppData\\Local\\Temp\\ipykernel_21340\\2139694716.py:17: UserWarning: pandas only supports SQLAlchemy connectable (engine/connection) or database string URI or sqlite3 DBAPI2 connection. Other DBAPI2 objects are not tested. Please consider using SQLAlchemy.\n",
      "  df3 = pd.read_sql(query4, cnx)\n"
     ]
    }
   ],
   "source": [
    "#Hires by country over years (focus on USA, Brazil, Colombia, Ecuador).\n",
    "\n",
    "query4 = \"\"\"\n",
    "SELECT \n",
    "    c.Country,\n",
    "    d.Year,\n",
    "    SUM(f.Hired) AS TotalHires\n",
    "FROM FactApplications f\n",
    "JOIN DimCountry c ON f.CountryID = c.CountryID\n",
    "JOIN DimDate d ON f.DateID = d.DateID\n",
    "WHERE c.Country IN ('United States of America', 'Brazil', 'Colombia', 'Ecuador', 'United States', 'United States of America')\n",
    "GROUP BY c.Country, d.Year\n",
    "ORDER BY c.Country, d.Year;\n",
    "\n",
    "\"\"\"\n",
    "\n",
    "df3 = pd.read_sql(query4, cnx)\n",
    "print(df3)\n"
   ]
  },
  {
   "cell_type": "code",
   "execution_count": null,
   "id": "4447993c",
   "metadata": {},
   "outputs": [
    {
     "name": "stdout",
     "output_type": "stream",
     "text": [
      "  SeniorityLevel  AvgCodeScore  AvgInterviewScore\n",
      "0      Architect          4.99               5.04\n",
      "1         Senior          4.99               5.04\n",
      "2      Mid-Level          4.96               5.01\n",
      "3        Trainee          4.99               5.00\n",
      "4         Junior          5.08               4.99\n",
      "5         Intern          5.01               4.97\n",
      "6           Lead          4.96               4.97\n"
     ]
    },
    {
     "name": "stderr",
     "output_type": "stream",
     "text": [
      "C:\\Users\\annie\\AppData\\Local\\Temp\\ipykernel_8744\\1230580819.py:11: UserWarning: pandas only supports SQLAlchemy connectable (engine/connection) or database string URI or sqlite3 DBAPI2 connection. Other DBAPI2 objects are not tested. Please consider using SQLAlchemy.\n",
      "  df4 = pd.read_sql(query5, cnx)\n"
     ]
    }
   ],
   "source": [
    "#Avarege Score by seniority level\n",
    "query5 = \"\"\"\n",
    "SELECT s.SeniorityLevel,\n",
    "       ROUND(AVG(f.CodeChallengeScore),2) AS AvgCodeScore,\n",
    "       ROUND(AVG(f.TechnicalInterviewScore),2) AS AvgInterviewScore\n",
    "FROM FactApplications f\n",
    "JOIN DimSeniority s ON f.SeniorityID = s.SeniorityID\n",
    "GROUP BY s.SeniorityLevel\n",
    "ORDER BY AvgInterviewScore DESC;\n",
    "\"\"\"\n",
    "df4 = pd.read_sql(query5, cnx)\n",
    "print(df4)"
   ]
  },
  {
   "cell_type": "code",
   "execution_count": null,
   "id": "3a9d6047",
   "metadata": {},
   "outputs": [
    {
     "name": "stdout",
     "output_type": "stream",
     "text": [
      "  ExperienceRange  TotalHires\n",
      "0       0-2 years         574\n",
      "1       3-5 years         652\n",
      "2      6-10 years        1055\n",
      "3     11-20 years        2205\n",
      "4       20+ years        2212\n"
     ]
    },
    {
     "name": "stderr",
     "output_type": "stream",
     "text": [
      "C:\\Users\\annie\\AppData\\Local\\Temp\\ipykernel_8744\\2891746243.py:19: UserWarning: pandas only supports SQLAlchemy connectable (engine/connection) or database string URI or sqlite3 DBAPI2 connection. Other DBAPI2 objects are not tested. Please consider using SQLAlchemy.\n",
      "  df5 = pd.read_sql(query6, cnx)\n"
     ]
    }
   ],
   "source": [
    "#Hires by expirence years \n",
    "query6 = \"\"\"\n",
    "SELECT \n",
    "    CASE \n",
    "        WHEN c.YOE BETWEEN 0 AND 2 THEN '0-2 years'\n",
    "        WHEN c.YOE BETWEEN 3 AND 5 THEN '3-5 years'\n",
    "        WHEN c.YOE BETWEEN 6 AND 10 THEN '6-10 years'\n",
    "        WHEN c.YOE BETWEEN 11 AND 20 THEN '11-20 years'\n",
    "        ELSE '20+ years'\n",
    "    END AS ExperienceRange,\n",
    "    COUNT(*) AS TotalHires\n",
    "FROM FactApplications f\n",
    "JOIN DimCandidate c ON f.CandidateID = c.CandidateID\n",
    "WHERE f.Hired = 1\n",
    "GROUP BY ExperienceRange\n",
    "ORDER BY MIN(c.YOE);\n",
    "\n",
    "\"\"\"\n",
    "df5 = pd.read_sql(query6, cnx)\n",
    "print(df5)"
   ]
  },
  {
   "cell_type": "code",
   "execution_count": null,
   "id": "93941279",
   "metadata": {},
   "outputs": [],
   "source": [
    "# cerrar conexión\n",
    "cnx.close()"
   ]
  }
 ],
 "metadata": {
  "kernelspec": {
   "display_name": "Python 3",
   "language": "python",
   "name": "python3"
  },
  "language_info": {
   "codemirror_mode": {
    "name": "ipython",
    "version": 3
   },
   "file_extension": ".py",
   "mimetype": "text/x-python",
   "name": "python",
   "nbconvert_exporter": "python",
   "pygments_lexer": "ipython3",
   "version": "3.12.4"
  }
 },
 "nbformat": 4,
 "nbformat_minor": 5
}
